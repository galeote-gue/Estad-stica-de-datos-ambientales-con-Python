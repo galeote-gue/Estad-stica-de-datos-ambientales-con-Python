{
 "cells": [
  {
   "cell_type": "markdown",
   "id": "69a33f3e",
   "metadata": {},
   "source": [
    "#### Exercises: Create composite functions that evaluate the absolute value of a number"
   ]
  },
  {
   "cell_type": "code",
   "execution_count": 2,
   "id": "2e4b5064",
   "metadata": {},
   "outputs": [],
   "source": [
    "def positive(x):\n",
    "    if x >= 0:\n",
    "        return 0\n",
    "    else:\n",
    "        return -x"
   ]
  },
  {
   "cell_type": "code",
   "execution_count": 3,
   "id": "22ce45a9",
   "metadata": {},
   "outputs": [],
   "source": [
    "def absvalue(x):\n",
    "    if x >= 0:\n",
    "        return x + positive(x) \n",
    "    else:\n",
    "        return x + 2*positive(x)"
   ]
  },
  {
   "cell_type": "code",
   "execution_count": 7,
   "id": "40e73b74",
   "metadata": {},
   "outputs": [
    {
     "name": "stdout",
     "output_type": "stream",
     "text": [
      "21.5\n"
     ]
    }
   ],
   "source": [
    "print(absvalue(-21.5))"
   ]
  },
  {
   "cell_type": "code",
   "execution_count": 8,
   "id": "4c94e849",
   "metadata": {},
   "outputs": [],
   "source": [
    "def square(x):\n",
    "    return x*x"
   ]
  },
  {
   "cell_type": "code",
   "execution_count": 9,
   "id": "35f4a594",
   "metadata": {},
   "outputs": [],
   "source": [
    "def sqrroot(x):\n",
    "    return x**0.5"
   ]
  },
  {
   "cell_type": "code",
   "execution_count": 10,
   "id": "d518683c",
   "metadata": {},
   "outputs": [],
   "source": [
    "def absolute(x):\n",
    "    return sqrroot(square(x))"
   ]
  },
  {
   "cell_type": "code",
   "execution_count": 11,
   "id": "d9b99bab",
   "metadata": {},
   "outputs": [
    {
     "name": "stdout",
     "output_type": "stream",
     "text": [
      "21.5\n"
     ]
    }
   ],
   "source": [
    "print(absolute(-21.5))"
   ]
  }
 ],
 "metadata": {
  "kernelspec": {
   "display_name": "base",
   "language": "python",
   "name": "python3"
  },
  "language_info": {
   "codemirror_mode": {
    "name": "ipython",
    "version": 3
   },
   "file_extension": ".py",
   "mimetype": "text/x-python",
   "name": "python",
   "nbconvert_exporter": "python",
   "pygments_lexer": "ipython3",
   "version": "3.13.5"
  }
 },
 "nbformat": 4,
 "nbformat_minor": 5
}
